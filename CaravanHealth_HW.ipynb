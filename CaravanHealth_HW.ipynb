{
 "cells": [
  {
   "cell_type": "markdown",
   "id": "c40ea45d",
   "metadata": {},
   "source": [
    "# Amy Jung"
   ]
  },
  {
   "cell_type": "markdown",
   "id": "c453d928",
   "metadata": {},
   "source": [
    "Coding assignment:\n",
    " \n",
    "Attached is a file with simulated maternity claims.  We ask candidates interviewing for a role our team to look into the data and share with us his/her findings.  You can complete this assignment in whichever programming language you prefer (e.g. SAS, R, Python, SQL, etc).  In addition to providing us with your code, we’d like you to report:\n",
    "- The average claim cost and length of stay for the entire patient population\n",
    "- The average claim cost and length of stay for each ICD 10 diagnostic code\n",
    "- Any other observations / summary statistics you’d like to share\n",
    "- Any assumptions you made (if any)\n",
    "- Approximately how long you worked on the project\n",
    " \n",
    "Feel free to send your assignment over before the interview if you complete it early. During the interview we will be going over the code and your results."
   ]
  },
  {
   "cell_type": "code",
   "execution_count": 4,
   "id": "c753e6e9",
   "metadata": {},
   "outputs": [],
   "source": [
    "import pandas as pd\n",
    "import numpy as np\n",
    "import matplotlib\n",
    "import matplotlib.pyplot as plt"
   ]
  },
  {
   "cell_type": "code",
   "execution_count": 5,
   "id": "747578a1",
   "metadata": {},
   "outputs": [
    {
     "data": {
      "text/html": [
       "<div>\n",
       "<style scoped>\n",
       "    .dataframe tbody tr th:only-of-type {\n",
       "        vertical-align: middle;\n",
       "    }\n",
       "\n",
       "    .dataframe tbody tr th {\n",
       "        vertical-align: top;\n",
       "    }\n",
       "\n",
       "    .dataframe thead th {\n",
       "        text-align: right;\n",
       "    }\n",
       "</style>\n",
       "<table border=\"1\" class=\"dataframe\">\n",
       "  <thead>\n",
       "    <tr style=\"text-align: right;\">\n",
       "      <th></th>\n",
       "      <th>patient_id</th>\n",
       "      <th>date_of_birth</th>\n",
       "      <th>patient_age</th>\n",
       "      <th>gender</th>\n",
       "      <th>zip_code</th>\n",
       "      <th>date_of_delivery</th>\n",
       "      <th>icd_10_diagnosis_code</th>\n",
       "      <th>length_of_stay</th>\n",
       "      <th>total_claim_cost</th>\n",
       "    </tr>\n",
       "  </thead>\n",
       "  <tbody>\n",
       "    <tr>\n",
       "      <th>0</th>\n",
       "      <td>101511</td>\n",
       "      <td>1992-02-24</td>\n",
       "      <td>24</td>\n",
       "      <td>F</td>\n",
       "      <td>37027</td>\n",
       "      <td>2017-01-23</td>\n",
       "      <td>O80</td>\n",
       "      <td>5</td>\n",
       "      <td>15590.55</td>\n",
       "    </tr>\n",
       "    <tr>\n",
       "      <th>1</th>\n",
       "      <td>101143</td>\n",
       "      <td>1992-08-22</td>\n",
       "      <td>25</td>\n",
       "      <td>F</td>\n",
       "      <td>37013</td>\n",
       "      <td>2017-09-16</td>\n",
       "      <td>O82</td>\n",
       "      <td>7</td>\n",
       "      <td>37930.46</td>\n",
       "    </tr>\n",
       "    <tr>\n",
       "      <th>2</th>\n",
       "      <td>193330</td>\n",
       "      <td>1983-02-22</td>\n",
       "      <td>34</td>\n",
       "      <td>F</td>\n",
       "      <td>37250</td>\n",
       "      <td>2017-10-07</td>\n",
       "      <td>O82</td>\n",
       "      <td>7</td>\n",
       "      <td>24965.33</td>\n",
       "    </tr>\n",
       "    <tr>\n",
       "      <th>3</th>\n",
       "      <td>142808</td>\n",
       "      <td>1978-02-25</td>\n",
       "      <td>38</td>\n",
       "      <td>F</td>\n",
       "      <td>37027</td>\n",
       "      <td>2017-01-12</td>\n",
       "      <td>O80</td>\n",
       "      <td>4</td>\n",
       "      <td>8669.38</td>\n",
       "    </tr>\n",
       "    <tr>\n",
       "      <th>4</th>\n",
       "      <td>142808</td>\n",
       "      <td>1970-09-11</td>\n",
       "      <td>47</td>\n",
       "      <td>F</td>\n",
       "      <td>37250</td>\n",
       "      <td>2017-12-13</td>\n",
       "      <td>O82</td>\n",
       "      <td>8</td>\n",
       "      <td>21954.30</td>\n",
       "    </tr>\n",
       "    <tr>\n",
       "      <th>...</th>\n",
       "      <td>...</td>\n",
       "      <td>...</td>\n",
       "      <td>...</td>\n",
       "      <td>...</td>\n",
       "      <td>...</td>\n",
       "      <td>...</td>\n",
       "      <td>...</td>\n",
       "      <td>...</td>\n",
       "      <td>...</td>\n",
       "    </tr>\n",
       "    <tr>\n",
       "      <th>64148</th>\n",
       "      <td>102809</td>\n",
       "      <td>1989-07-22</td>\n",
       "      <td>27</td>\n",
       "      <td>NaN</td>\n",
       "      <td>37122</td>\n",
       "      <td>2017-02-02</td>\n",
       "      <td>O80</td>\n",
       "      <td>4</td>\n",
       "      <td>11357.88</td>\n",
       "    </tr>\n",
       "    <tr>\n",
       "      <th>64149</th>\n",
       "      <td>136397</td>\n",
       "      <td>1981-09-28</td>\n",
       "      <td>35</td>\n",
       "      <td>F</td>\n",
       "      <td>37013</td>\n",
       "      <td>2017-08-22</td>\n",
       "      <td>O82</td>\n",
       "      <td>8</td>\n",
       "      <td>22995.74</td>\n",
       "    </tr>\n",
       "    <tr>\n",
       "      <th>64150</th>\n",
       "      <td>190534</td>\n",
       "      <td>1976-06-25</td>\n",
       "      <td>40</td>\n",
       "      <td>F</td>\n",
       "      <td>37250</td>\n",
       "      <td>2017-04-21</td>\n",
       "      <td>O69</td>\n",
       "      <td>6</td>\n",
       "      <td>18503.37</td>\n",
       "    </tr>\n",
       "    <tr>\n",
       "      <th>64151</th>\n",
       "      <td>137050</td>\n",
       "      <td>1969-05-11</td>\n",
       "      <td>47</td>\n",
       "      <td>F</td>\n",
       "      <td>37250</td>\n",
       "      <td>2017-03-06</td>\n",
       "      <td>O80</td>\n",
       "      <td>7</td>\n",
       "      <td>11688.88</td>\n",
       "    </tr>\n",
       "    <tr>\n",
       "      <th>64152</th>\n",
       "      <td>157354</td>\n",
       "      <td>1998-08-29</td>\n",
       "      <td>18</td>\n",
       "      <td>F</td>\n",
       "      <td>37250</td>\n",
       "      <td>2017-08-21</td>\n",
       "      <td>O69</td>\n",
       "      <td>11</td>\n",
       "      <td>31829.80</td>\n",
       "    </tr>\n",
       "  </tbody>\n",
       "</table>\n",
       "<p>64153 rows × 9 columns</p>\n",
       "</div>"
      ],
      "text/plain": [
       "       patient_id date_of_birth  patient_age gender  zip_code  \\\n",
       "0          101511    1992-02-24           24      F     37027   \n",
       "1          101143    1992-08-22           25      F     37013   \n",
       "2          193330    1983-02-22           34      F     37250   \n",
       "3          142808    1978-02-25           38      F     37027   \n",
       "4          142808    1970-09-11           47      F     37250   \n",
       "...           ...           ...          ...    ...       ...   \n",
       "64148      102809    1989-07-22           27    NaN     37122   \n",
       "64149      136397    1981-09-28           35      F     37013   \n",
       "64150      190534    1976-06-25           40      F     37250   \n",
       "64151      137050    1969-05-11           47      F     37250   \n",
       "64152      157354    1998-08-29           18      F     37250   \n",
       "\n",
       "      date_of_delivery icd_10_diagnosis_code  length_of_stay  total_claim_cost  \n",
       "0           2017-01-23                   O80               5          15590.55  \n",
       "1           2017-09-16                   O82               7          37930.46  \n",
       "2           2017-10-07                   O82               7          24965.33  \n",
       "3           2017-01-12                   O80               4           8669.38  \n",
       "4           2017-12-13                   O82               8          21954.30  \n",
       "...                ...                   ...             ...               ...  \n",
       "64148       2017-02-02                   O80               4          11357.88  \n",
       "64149       2017-08-22                   O82               8          22995.74  \n",
       "64150       2017-04-21                   O69               6          18503.37  \n",
       "64151       2017-03-06                   O80               7          11688.88  \n",
       "64152       2017-08-21                   O69              11          31829.80  \n",
       "\n",
       "[64153 rows x 9 columns]"
      ]
     },
     "execution_count": 5,
     "metadata": {},
     "output_type": "execute_result"
    }
   ],
   "source": [
    "df = pd.read_csv('maternity_claims_2017.csv')\n",
    "df"
   ]
  },
  {
   "cell_type": "code",
   "execution_count": 6,
   "id": "d18a8f37",
   "metadata": {},
   "outputs": [
    {
     "data": {
      "text/plain": [
       "patient_id               False\n",
       "date_of_birth            False\n",
       "patient_age              False\n",
       "gender                    True\n",
       "zip_code                 False\n",
       "date_of_delivery         False\n",
       "icd_10_diagnosis_code    False\n",
       "length_of_stay           False\n",
       "total_claim_cost         False\n",
       "dtype: bool"
      ]
     },
     "execution_count": 6,
     "metadata": {},
     "output_type": "execute_result"
    }
   ],
   "source": [
    "#there are 70 null rows\n",
    "df.isnull().any()"
   ]
  },
  {
   "cell_type": "code",
   "execution_count": 7,
   "id": "e59a69d5",
   "metadata": {},
   "outputs": [
    {
     "data": {
      "text/html": [
       "<div>\n",
       "<style scoped>\n",
       "    .dataframe tbody tr th:only-of-type {\n",
       "        vertical-align: middle;\n",
       "    }\n",
       "\n",
       "    .dataframe tbody tr th {\n",
       "        vertical-align: top;\n",
       "    }\n",
       "\n",
       "    .dataframe thead th {\n",
       "        text-align: right;\n",
       "    }\n",
       "</style>\n",
       "<table border=\"1\" class=\"dataframe\">\n",
       "  <thead>\n",
       "    <tr style=\"text-align: right;\">\n",
       "      <th></th>\n",
       "      <th>patient_id</th>\n",
       "      <th>date_of_birth</th>\n",
       "      <th>patient_age</th>\n",
       "      <th>gender</th>\n",
       "      <th>zip_code</th>\n",
       "      <th>date_of_delivery</th>\n",
       "      <th>icd_10_diagnosis_code</th>\n",
       "      <th>length_of_stay</th>\n",
       "      <th>total_claim_cost</th>\n",
       "    </tr>\n",
       "  </thead>\n",
       "  <tbody>\n",
       "    <tr>\n",
       "      <th>8</th>\n",
       "      <td>123308</td>\n",
       "      <td>1972-10-09</td>\n",
       "      <td>44</td>\n",
       "      <td>NaN</td>\n",
       "      <td>37122</td>\n",
       "      <td>2017-03-14</td>\n",
       "      <td>O80</td>\n",
       "      <td>5</td>\n",
       "      <td>13126.84</td>\n",
       "    </tr>\n",
       "    <tr>\n",
       "      <th>18</th>\n",
       "      <td>107025</td>\n",
       "      <td>1991-08-19</td>\n",
       "      <td>26</td>\n",
       "      <td>NaN</td>\n",
       "      <td>37122</td>\n",
       "      <td>2017-12-08</td>\n",
       "      <td>O80</td>\n",
       "      <td>4</td>\n",
       "      <td>10548.96</td>\n",
       "    </tr>\n",
       "    <tr>\n",
       "      <th>20</th>\n",
       "      <td>131810</td>\n",
       "      <td>1991-10-07</td>\n",
       "      <td>25</td>\n",
       "      <td>NaN</td>\n",
       "      <td>37122</td>\n",
       "      <td>2017-09-09</td>\n",
       "      <td>O82</td>\n",
       "      <td>5</td>\n",
       "      <td>14755.51</td>\n",
       "    </tr>\n",
       "    <tr>\n",
       "      <th>31</th>\n",
       "      <td>181267</td>\n",
       "      <td>1990-12-09</td>\n",
       "      <td>26</td>\n",
       "      <td>NaN</td>\n",
       "      <td>37122</td>\n",
       "      <td>2017-02-07</td>\n",
       "      <td>O69</td>\n",
       "      <td>11</td>\n",
       "      <td>37980.42</td>\n",
       "    </tr>\n",
       "    <tr>\n",
       "      <th>35</th>\n",
       "      <td>170166</td>\n",
       "      <td>1990-06-19</td>\n",
       "      <td>27</td>\n",
       "      <td>NaN</td>\n",
       "      <td>37122</td>\n",
       "      <td>2017-08-30</td>\n",
       "      <td>O80</td>\n",
       "      <td>5</td>\n",
       "      <td>10137.91</td>\n",
       "    </tr>\n",
       "    <tr>\n",
       "      <th>...</th>\n",
       "      <td>...</td>\n",
       "      <td>...</td>\n",
       "      <td>...</td>\n",
       "      <td>...</td>\n",
       "      <td>...</td>\n",
       "      <td>...</td>\n",
       "      <td>...</td>\n",
       "      <td>...</td>\n",
       "      <td>...</td>\n",
       "    </tr>\n",
       "    <tr>\n",
       "      <th>64137</th>\n",
       "      <td>144047</td>\n",
       "      <td>1991-09-28</td>\n",
       "      <td>26</td>\n",
       "      <td>NaN</td>\n",
       "      <td>37122</td>\n",
       "      <td>2017-10-04</td>\n",
       "      <td>O80</td>\n",
       "      <td>7</td>\n",
       "      <td>20453.20</td>\n",
       "    </tr>\n",
       "    <tr>\n",
       "      <th>64139</th>\n",
       "      <td>142808</td>\n",
       "      <td>1979-02-23</td>\n",
       "      <td>38</td>\n",
       "      <td>NaN</td>\n",
       "      <td>37122</td>\n",
       "      <td>2017-08-24</td>\n",
       "      <td>O80</td>\n",
       "      <td>4</td>\n",
       "      <td>3621.72</td>\n",
       "    </tr>\n",
       "    <tr>\n",
       "      <th>64141</th>\n",
       "      <td>189132</td>\n",
       "      <td>1971-01-15</td>\n",
       "      <td>46</td>\n",
       "      <td>NaN</td>\n",
       "      <td>37122</td>\n",
       "      <td>2017-03-20</td>\n",
       "      <td>O69</td>\n",
       "      <td>7</td>\n",
       "      <td>18450.53</td>\n",
       "    </tr>\n",
       "    <tr>\n",
       "      <th>64146</th>\n",
       "      <td>150037</td>\n",
       "      <td>1998-07-11</td>\n",
       "      <td>19</td>\n",
       "      <td>NaN</td>\n",
       "      <td>37122</td>\n",
       "      <td>2017-09-08</td>\n",
       "      <td>O67</td>\n",
       "      <td>8</td>\n",
       "      <td>21336.14</td>\n",
       "    </tr>\n",
       "    <tr>\n",
       "      <th>64148</th>\n",
       "      <td>102809</td>\n",
       "      <td>1989-07-22</td>\n",
       "      <td>27</td>\n",
       "      <td>NaN</td>\n",
       "      <td>37122</td>\n",
       "      <td>2017-02-02</td>\n",
       "      <td>O80</td>\n",
       "      <td>4</td>\n",
       "      <td>11357.88</td>\n",
       "    </tr>\n",
       "  </tbody>\n",
       "</table>\n",
       "<p>8030 rows × 9 columns</p>\n",
       "</div>"
      ],
      "text/plain": [
       "       patient_id date_of_birth  patient_age gender  zip_code  \\\n",
       "8          123308    1972-10-09           44    NaN     37122   \n",
       "18         107025    1991-08-19           26    NaN     37122   \n",
       "20         131810    1991-10-07           25    NaN     37122   \n",
       "31         181267    1990-12-09           26    NaN     37122   \n",
       "35         170166    1990-06-19           27    NaN     37122   \n",
       "...           ...           ...          ...    ...       ...   \n",
       "64137      144047    1991-09-28           26    NaN     37122   \n",
       "64139      142808    1979-02-23           38    NaN     37122   \n",
       "64141      189132    1971-01-15           46    NaN     37122   \n",
       "64146      150037    1998-07-11           19    NaN     37122   \n",
       "64148      102809    1989-07-22           27    NaN     37122   \n",
       "\n",
       "      date_of_delivery icd_10_diagnosis_code  length_of_stay  total_claim_cost  \n",
       "8           2017-03-14                   O80               5          13126.84  \n",
       "18          2017-12-08                   O80               4          10548.96  \n",
       "20          2017-09-09                   O82               5          14755.51  \n",
       "31          2017-02-07                   O69              11          37980.42  \n",
       "35          2017-08-30                   O80               5          10137.91  \n",
       "...                ...                   ...             ...               ...  \n",
       "64137       2017-10-04                   O80               7          20453.20  \n",
       "64139       2017-08-24                   O80               4           3621.72  \n",
       "64141       2017-03-20                   O69               7          18450.53  \n",
       "64146       2017-09-08                   O67               8          21336.14  \n",
       "64148       2017-02-02                   O80               4          11357.88  \n",
       "\n",
       "[8030 rows x 9 columns]"
      ]
     },
     "execution_count": 7,
     "metadata": {},
     "output_type": "execute_result"
    }
   ],
   "source": [
    "#there are 8030 null rows\n",
    "nulls = df[df['gender'].isnull()]\n",
    "nulls"
   ]
  },
  {
   "cell_type": "markdown",
   "id": "529920ad",
   "metadata": {},
   "source": [
    "## Any assumptions you made (if any)\n",
    "- Assumng nulls in 'gender' column to be Female, because csv is of maternity claims. Therefore, not dropping null columns in analysis.\n",
    "- negative claims are normal ?"
   ]
  },
  {
   "cell_type": "code",
   "execution_count": 8,
   "id": "d3637063",
   "metadata": {},
   "outputs": [
    {
     "data": {
      "text/plain": [
       "str"
      ]
     },
     "execution_count": 8,
     "metadata": {},
     "output_type": "execute_result"
    }
   ],
   "source": [
    "type(df['date_of_delivery'][0])"
   ]
  },
  {
   "cell_type": "code",
   "execution_count": 9,
   "id": "6fc5dd9d",
   "metadata": {
    "scrolled": true
   },
   "outputs": [
    {
     "data": {
      "text/plain": [
       "array(['2017-01-23', '2017-09-16', '2017-10-07', '2017-01-12',\n",
       "       '2017-12-13', '2017-03-20', '2017-10-19', '2017-03-11',\n",
       "       '2017-03-14', '2017-04-07', '2017-12-05', '2017-04-02',\n",
       "       '2017-07-12', '2017-09-01', '2017-03-29', '2017-01-03',\n",
       "       '2017-01-07', '2017-09-28', '2017-12-08', '2017-11-18',\n",
       "       '2017-09-09', '2017-02-07', '2017-05-07', '2017-07-24',\n",
       "       '2017-06-29', '2017-01-16', '2017-04-12', '2017-08-23',\n",
       "       '2017-10-11', '2017-03-10', '2017-09-14', '2017-07-07',\n",
       "       '2017-08-30', '2017-01-06', '2017-12-06', '2017-05-14',\n",
       "       '2017-05-02', '2017-02-19', '2017-07-31', '2017-12-12',\n",
       "       '2017-08-03', '2017-03-01', '2017-08-21', '2017-08-06',\n",
       "       '2017-11-25', '2017-12-17', '2017-06-07', '2017-06-20',\n",
       "       '2017-10-20', '2017-10-12', '2017-06-10', '2017-04-24',\n",
       "       '2017-06-11', '2017-08-20', '2017-03-02', '2017-03-24',\n",
       "       '2017-06-26', '2017-02-06', '2017-08-29', '2017-11-20',\n",
       "       '2017-06-12', '2017-11-02', '2017-01-25', '2017-05-31',\n",
       "       '2017-08-14', '2017-06-14', '2017-07-26', '2017-10-17',\n",
       "       '2017-01-14', '2017-08-17', '2017-02-05', '2017-07-25',\n",
       "       '2017-09-26', '2017-05-21', '2017-04-13', '2017-01-13',\n",
       "       '2017-08-28', '2017-06-17', '2017-11-06', '2017-07-20',\n",
       "       '2017-05-27', '2017-07-05', '2017-12-25', '2017-08-31',\n",
       "       '2017-09-25', '2017-10-28', '2017-04-01', '2017-11-15',\n",
       "       '2017-02-27', '2017-05-12', '2017-02-03', '2017-04-19',\n",
       "       '2017-11-19', '2017-02-23', '2017-10-29', '2017-12-07',\n",
       "       '2017-12-16', '2017-10-09', '2017-10-27', '2017-05-17',\n",
       "       '2017-04-16', '2017-08-05', '2017-02-10', '2017-08-04',\n",
       "       '2017-11-11', '2017-09-10', '2017-06-04', '2017-01-10',\n",
       "       '2017-08-24', '2017-11-28', '2017-04-18', '2017-08-07',\n",
       "       '2017-01-27', '2017-09-21', '2017-05-10', '2017-11-13',\n",
       "       '2017-10-01', '2017-12-04', '2017-05-18', '2017-03-08',\n",
       "       '2017-12-10', '2017-04-04', '2017-08-15', '2017-04-15',\n",
       "       '2017-07-13', '2017-01-15', '2017-06-19', '2017-11-30',\n",
       "       '2017-09-05', '2017-06-06', '2017-12-26', '2017-12-28',\n",
       "       '2017-10-18', '2017-02-08', '2017-02-28', '2017-03-05',\n",
       "       '2017-11-21', '2017-04-20', '2017-05-23', '2017-05-11',\n",
       "       '2017-04-21', '2017-12-22', '2017-02-14', '2017-07-11',\n",
       "       '2017-10-10', '2017-10-04', '2017-03-16', '2017-09-15',\n",
       "       '2017-07-03', '2017-04-25', '2017-06-08', '2017-12-11',\n",
       "       '2017-03-30', '2017-03-18', '2017-02-11', '2017-07-23',\n",
       "       '2017-12-23', '2017-01-30', '2017-09-27', '2017-10-15',\n",
       "       '2017-01-18', '2017-12-02', '2017-10-05', '2017-07-22',\n",
       "       '2017-02-26', '2017-11-29', '2017-12-30', '2017-03-17',\n",
       "       '2017-08-27', '2017-07-17', '2017-06-23', '2017-01-17',\n",
       "       '2017-11-22', '2017-09-03', '2017-02-18', '2017-03-03',\n",
       "       '2017-03-07', '2017-11-26', '2017-06-27', '2017-06-03',\n",
       "       '2017-04-10', '2017-07-10', '2017-04-23', '2017-07-15',\n",
       "       '2017-04-11', '2017-03-27', '2017-10-06', '2017-07-27',\n",
       "       '2017-05-01', '2017-08-01', '2017-12-03', '2017-07-28',\n",
       "       '2017-05-20', '2017-05-08', '2017-10-31', '2017-09-08',\n",
       "       '2017-05-24', '2017-01-28', '2017-11-05', '2017-05-05',\n",
       "       '2017-07-09', '2017-08-25', '2017-02-01', '2017-10-03',\n",
       "       '2017-05-04', '2017-06-22', '2017-11-03', '2017-02-02',\n",
       "       '2017-05-19', '2017-03-09', '2017-09-19', '2017-06-25',\n",
       "       '2017-02-25', '2017-07-29', '2017-07-18', '2017-03-15',\n",
       "       '2017-06-02', '2017-01-19', '2017-12-20', '2017-01-31',\n",
       "       '2017-06-13', '2017-03-31', '2017-06-16', '2017-09-11',\n",
       "       '2017-09-29', '2017-05-30', '2017-06-15', '2017-09-07',\n",
       "       '2017-02-12', '2017-12-01', '2017-04-28', '2017-09-12',\n",
       "       '2017-01-11', '2017-04-14', '2017-03-06', '2017-04-06',\n",
       "       '2017-05-15', '2017-01-26', '2017-02-13', '2017-05-13',\n",
       "       '2017-12-21', '2017-11-10', '2017-09-13', '2017-11-08',\n",
       "       '2017-08-11', '2017-04-03', '2017-05-25', '2017-09-18',\n",
       "       '2017-10-24', '2017-11-01', '2017-03-13', '2017-08-13',\n",
       "       '2017-01-24', '2017-11-27', '2017-10-22', '2017-04-09',\n",
       "       '2017-08-22', '2017-12-18', '2017-07-08', '2017-08-09',\n",
       "       '2017-06-24', '2017-10-26', '2017-11-17', '2017-03-04',\n",
       "       '2017-11-12', '2017-03-22', '2017-05-26', '2017-09-20',\n",
       "       '2017-05-06', '2017-09-30', '2017-10-21', '2017-05-03',\n",
       "       '2017-03-12', '2017-07-06', '2017-04-08', '2017-03-28',\n",
       "       '2017-04-22', '2017-03-25', '2017-10-02', '2017-02-15',\n",
       "       '2017-07-19', '2017-03-26', '2017-09-17', '2017-06-09',\n",
       "       '2017-12-09', '2017-10-23', '2017-11-04', '2017-10-16',\n",
       "       '2017-02-16', '2017-11-24', '2017-06-01', '2017-10-25',\n",
       "       '2017-09-24', '2017-03-19', '2017-02-17', '2017-01-22',\n",
       "       '2017-03-21', '2017-07-30', '2017-11-14', '2017-12-15',\n",
       "       '2017-01-29', '2017-10-13', '2017-10-30', '2017-09-23',\n",
       "       '2017-01-09', '2017-08-26', '2017-07-01', '2017-02-21',\n",
       "       '2017-07-16', '2017-08-10', '2017-12-27', '2017-01-02',\n",
       "       '2017-06-18', '2017-09-04', '2017-10-08', '2017-05-09',\n",
       "       '2017-01-01', '2017-08-18', '2017-08-19', '2017-07-02',\n",
       "       '2017-02-24', '2017-01-05', '2017-06-21', '2017-05-28',\n",
       "       '2017-07-14', '2017-04-30', '2017-06-30', '2017-12-24',\n",
       "       '2017-08-12', '2017-04-27', '2017-02-09', '2017-10-14',\n",
       "       '2017-06-28', '2017-11-16', '2017-02-04', '2017-12-19',\n",
       "       '2017-05-29', '2017-09-02', '2017-04-17', '2017-12-14',\n",
       "       '2017-12-29', '2017-06-05', '2017-09-22', '2017-09-06',\n",
       "       '2017-01-04', '2017-08-02', '2017-07-04', '2017-11-09',\n",
       "       '2017-11-07', '2017-05-16', '2017-01-21', '2017-11-23',\n",
       "       '2017-03-23', '2017-02-20', '2017-04-29', '2017-05-22',\n",
       "       '2017-02-22', '2017-04-26', '2017-07-21', '2017-08-08',\n",
       "       '2017-01-20', '2017-04-05', '2017-01-08', '2017-08-16'],\n",
       "      dtype=object)"
      ]
     },
     "execution_count": 9,
     "metadata": {},
     "output_type": "execute_result"
    }
   ],
   "source": [
    "df['date_of_delivery'].unique()"
   ]
  },
  {
   "cell_type": "markdown",
   "id": "3049c990",
   "metadata": {},
   "source": [
    "## The average claim cost and length of stay for the entire patient population"
   ]
  },
  {
   "cell_type": "markdown",
   "id": "523da006",
   "metadata": {},
   "source": [
    "### claim cost"
   ]
  },
  {
   "cell_type": "code",
   "execution_count": 10,
   "id": "3d0c9f52",
   "metadata": {},
   "outputs": [
    {
     "data": {
      "text/plain": [
       "18901.730289776002"
      ]
     },
     "execution_count": 10,
     "metadata": {},
     "output_type": "execute_result"
    }
   ],
   "source": [
    "# avg claim cost\n",
    "np.mean(df['total_claim_cost'])"
   ]
  },
  {
   "cell_type": "code",
   "execution_count": 11,
   "id": "eb5770b5",
   "metadata": {},
   "outputs": [
    {
     "data": {
      "text/plain": [
       "<AxesSubplot:>"
      ]
     },
     "execution_count": 11,
     "metadata": {},
     "output_type": "execute_result"
    },
    {
     "data": {
      "image/png": "[encoded data removed]",
      "text/plain": [
       "<Figure size 432x288 with 1 Axes>"
      ]
     },
     "metadata": {
      "needs_background": "light"
     },
     "output_type": "display_data"
    }
   ],
   "source": [
    "df['total_claim_cost'].hist()"
   ]
  },
  {
   "cell_type": "code",
   "execution_count": 12,
   "id": "320b9792",
   "metadata": {},
   "outputs": [
    {
     "data": {
      "text/plain": [
       "25282   -232105.71\n",
       "31515   -201340.82\n",
       "14173   -175619.58\n",
       "42566   -169745.38\n",
       "8541    -167863.65\n",
       "           ...    \n",
       "40604    250000.00\n",
       "54041    250000.00\n",
       "46465    250000.00\n",
       "59026    250000.00\n",
       "20165    250000.00\n",
       "Name: total_claim_cost, Length: 64153, dtype: float64"
      ]
     },
     "execution_count": 12,
     "metadata": {},
     "output_type": "execute_result"
    }
   ],
   "source": [
    "df['total_claim_cost'].sort_values()"
   ]
  },
  {
   "cell_type": "code",
   "execution_count": 13,
   "id": "fdbd0b07",
   "metadata": {},
   "outputs": [
    {
     "data": {
      "text/plain": [
       "1888"
      ]
     },
     "execution_count": 13,
     "metadata": {},
     "output_type": "execute_result"
    }
   ],
   "source": [
    "# 1888 negative claims\n",
    "len(df[df['total_claim_cost'] < 0]) "
   ]
  },
  {
   "cell_type": "markdown",
   "id": "ccf3fcad",
   "metadata": {},
   "source": [
    "**Are negative claims a thing??**"
   ]
  },
  {
   "cell_type": "code",
   "execution_count": 14,
   "id": "5d078b42",
   "metadata": {},
   "outputs": [
    {
     "data": {
      "text/plain": [
       "19839.145641692765"
      ]
     },
     "execution_count": 14,
     "metadata": {},
     "output_type": "execute_result"
    }
   ],
   "source": [
    "# avg positive claim cost\n",
    "np.mean(df[df['total_claim_cost'] >= 0]['total_claim_cost'])"
   ]
  },
  {
   "cell_type": "code",
   "execution_count": 15,
   "id": "396ea2c4",
   "metadata": {},
   "outputs": [
    {
     "data": {
      "text/plain": [
       "-12013.612341101696"
      ]
     },
     "execution_count": 15,
     "metadata": {},
     "output_type": "execute_result"
    }
   ],
   "source": [
    "# avg negative claim cost\n",
    "np.mean(df[df['total_claim_cost'] < 0]['total_claim_cost'])"
   ]
  },
  {
   "cell_type": "markdown",
   "id": "46d8521c",
   "metadata": {},
   "source": [
    "### length of stay"
   ]
  },
  {
   "cell_type": "code",
   "execution_count": 16,
   "id": "ba5415f7",
   "metadata": {},
   "outputs": [
    {
     "data": {
      "text/plain": [
       "5.488083176157"
      ]
     },
     "execution_count": 16,
     "metadata": {},
     "output_type": "execute_result"
    }
   ],
   "source": [
    "# avg length of stay \n",
    "np.mean(df['length_of_stay'])"
   ]
  },
  {
   "cell_type": "code",
   "execution_count": 17,
   "id": "642009ae",
   "metadata": {},
   "outputs": [
    {
     "data": {
      "text/plain": [
       "<AxesSubplot:>"
      ]
     },
     "execution_count": 17,
     "metadata": {},
     "output_type": "execute_result"
    },
    {
     "data": {
      "image/png": "[encoded data removed]",
      "text/plain": [
       "<Figure size 432x288 with 1 Axes>"
      ]
     },
     "metadata": {
      "needs_background": "light"
     },
     "output_type": "display_data"
    }
   ],
   "source": [
    "df['length_of_stay'].hist()"
   ]
  },
  {
   "cell_type": "markdown",
   "id": "d265b1e2",
   "metadata": {},
   "source": [
    "## The average claim cost and length of stay for each ICD 10 diagnostic code"
   ]
  },
  {
   "cell_type": "code",
   "execution_count": 18,
   "id": "11e791fa",
   "metadata": {},
   "outputs": [
    {
     "data": {
      "text/plain": [
       "array(['O80', 'O82', 'O03', 'O69', 'O67'], dtype=object)"
      ]
     },
     "execution_count": 18,
     "metadata": {},
     "output_type": "execute_result"
    }
   ],
   "source": [
    "# the different unique ICD 10 codes\n",
    "unique_icd_codes = df['icd_10_diagnosis_code'].unique()\n",
    "unique_icd_codes"
   ]
  },
  {
   "cell_type": "code",
   "execution_count": 19,
   "id": "217d9617",
   "metadata": {},
   "outputs": [
    {
     "data": {
      "text/html": [
       "<div>\n",
       "<style scoped>\n",
       "    .dataframe tbody tr th:only-of-type {\n",
       "        vertical-align: middle;\n",
       "    }\n",
       "\n",
       "    .dataframe tbody tr th {\n",
       "        vertical-align: top;\n",
       "    }\n",
       "\n",
       "    .dataframe thead th {\n",
       "        text-align: right;\n",
       "    }\n",
       "</style>\n",
       "<table border=\"1\" class=\"dataframe\">\n",
       "  <thead>\n",
       "    <tr style=\"text-align: right;\">\n",
       "      <th></th>\n",
       "      <th>patient_id</th>\n",
       "      <th>date_of_birth</th>\n",
       "      <th>patient_age</th>\n",
       "      <th>gender</th>\n",
       "      <th>zip_code</th>\n",
       "      <th>date_of_delivery</th>\n",
       "      <th>icd_10_diagnosis_code</th>\n",
       "      <th>length_of_stay</th>\n",
       "      <th>total_claim_cost</th>\n",
       "    </tr>\n",
       "  </thead>\n",
       "  <tbody>\n",
       "    <tr>\n",
       "      <th>0</th>\n",
       "      <td>101511</td>\n",
       "      <td>1992-02-24</td>\n",
       "      <td>24</td>\n",
       "      <td>F</td>\n",
       "      <td>37027</td>\n",
       "      <td>2017-01-23</td>\n",
       "      <td>O80</td>\n",
       "      <td>5</td>\n",
       "      <td>15590.55</td>\n",
       "    </tr>\n",
       "    <tr>\n",
       "      <th>3</th>\n",
       "      <td>142808</td>\n",
       "      <td>1978-02-25</td>\n",
       "      <td>38</td>\n",
       "      <td>F</td>\n",
       "      <td>37027</td>\n",
       "      <td>2017-01-12</td>\n",
       "      <td>O80</td>\n",
       "      <td>4</td>\n",
       "      <td>8669.38</td>\n",
       "    </tr>\n",
       "    <tr>\n",
       "      <th>5</th>\n",
       "      <td>189210</td>\n",
       "      <td>1989-08-31</td>\n",
       "      <td>27</td>\n",
       "      <td>F</td>\n",
       "      <td>37250</td>\n",
       "      <td>2017-03-20</td>\n",
       "      <td>O80</td>\n",
       "      <td>5</td>\n",
       "      <td>11415.21</td>\n",
       "    </tr>\n",
       "    <tr>\n",
       "      <th>6</th>\n",
       "      <td>129631</td>\n",
       "      <td>1981-04-24</td>\n",
       "      <td>36</td>\n",
       "      <td>F</td>\n",
       "      <td>37250</td>\n",
       "      <td>2017-10-19</td>\n",
       "      <td>O80</td>\n",
       "      <td>5</td>\n",
       "      <td>14280.38</td>\n",
       "    </tr>\n",
       "    <tr>\n",
       "      <th>8</th>\n",
       "      <td>123308</td>\n",
       "      <td>1972-10-09</td>\n",
       "      <td>44</td>\n",
       "      <td>NaN</td>\n",
       "      <td>37122</td>\n",
       "      <td>2017-03-14</td>\n",
       "      <td>O80</td>\n",
       "      <td>5</td>\n",
       "      <td>13126.84</td>\n",
       "    </tr>\n",
       "    <tr>\n",
       "      <th>...</th>\n",
       "      <td>...</td>\n",
       "      <td>...</td>\n",
       "      <td>...</td>\n",
       "      <td>...</td>\n",
       "      <td>...</td>\n",
       "      <td>...</td>\n",
       "      <td>...</td>\n",
       "      <td>...</td>\n",
       "      <td>...</td>\n",
       "    </tr>\n",
       "    <tr>\n",
       "      <th>64144</th>\n",
       "      <td>185761</td>\n",
       "      <td>1988-01-22</td>\n",
       "      <td>29</td>\n",
       "      <td>F</td>\n",
       "      <td>37167</td>\n",
       "      <td>2017-12-27</td>\n",
       "      <td>O80</td>\n",
       "      <td>6</td>\n",
       "      <td>8008.90</td>\n",
       "    </tr>\n",
       "    <tr>\n",
       "      <th>64145</th>\n",
       "      <td>169604</td>\n",
       "      <td>1980-11-12</td>\n",
       "      <td>36</td>\n",
       "      <td>F</td>\n",
       "      <td>37013</td>\n",
       "      <td>2017-04-26</td>\n",
       "      <td>O80</td>\n",
       "      <td>8</td>\n",
       "      <td>23949.26</td>\n",
       "    </tr>\n",
       "    <tr>\n",
       "      <th>64147</th>\n",
       "      <td>116312</td>\n",
       "      <td>1996-01-19</td>\n",
       "      <td>21</td>\n",
       "      <td>F</td>\n",
       "      <td>37027</td>\n",
       "      <td>2017-03-17</td>\n",
       "      <td>O80</td>\n",
       "      <td>4</td>\n",
       "      <td>11958.67</td>\n",
       "    </tr>\n",
       "    <tr>\n",
       "      <th>64148</th>\n",
       "      <td>102809</td>\n",
       "      <td>1989-07-22</td>\n",
       "      <td>27</td>\n",
       "      <td>NaN</td>\n",
       "      <td>37122</td>\n",
       "      <td>2017-02-02</td>\n",
       "      <td>O80</td>\n",
       "      <td>4</td>\n",
       "      <td>11357.88</td>\n",
       "    </tr>\n",
       "    <tr>\n",
       "      <th>64151</th>\n",
       "      <td>137050</td>\n",
       "      <td>1969-05-11</td>\n",
       "      <td>47</td>\n",
       "      <td>F</td>\n",
       "      <td>37250</td>\n",
       "      <td>2017-03-06</td>\n",
       "      <td>O80</td>\n",
       "      <td>7</td>\n",
       "      <td>11688.88</td>\n",
       "    </tr>\n",
       "  </tbody>\n",
       "</table>\n",
       "<p>38238 rows × 9 columns</p>\n",
       "</div>"
      ],
      "text/plain": [
       "       patient_id date_of_birth  patient_age gender  zip_code  \\\n",
       "0          101511    1992-02-24           24      F     37027   \n",
       "3          142808    1978-02-25           38      F     37027   \n",
       "5          189210    1989-08-31           27      F     37250   \n",
       "6          129631    1981-04-24           36      F     37250   \n",
       "8          123308    1972-10-09           44    NaN     37122   \n",
       "...           ...           ...          ...    ...       ...   \n",
       "64144      185761    1988-01-22           29      F     37167   \n",
       "64145      169604    1980-11-12           36      F     37013   \n",
       "64147      116312    1996-01-19           21      F     37027   \n",
       "64148      102809    1989-07-22           27    NaN     37122   \n",
       "64151      137050    1969-05-11           47      F     37250   \n",
       "\n",
       "      date_of_delivery icd_10_diagnosis_code  length_of_stay  total_claim_cost  \n",
       "0           2017-01-23                   O80               5          15590.55  \n",
       "3           2017-01-12                   O80               4           8669.38  \n",
       "5           2017-03-20                   O80               5          11415.21  \n",
       "6           2017-10-19                   O80               5          14280.38  \n",
       "8           2017-03-14                   O80               5          13126.84  \n",
       "...                ...                   ...             ...               ...  \n",
       "64144       2017-12-27                   O80               6           8008.90  \n",
       "64145       2017-04-26                   O80               8          23949.26  \n",
       "64147       2017-03-17                   O80               4          11958.67  \n",
       "64148       2017-02-02                   O80               4          11357.88  \n",
       "64151       2017-03-06                   O80               7          11688.88  \n",
       "\n",
       "[38238 rows x 9 columns]"
      ]
     },
     "execution_count": 19,
     "metadata": {},
     "output_type": "execute_result"
    }
   ],
   "source": [
    "# sanity check for ICD 10: O80\n",
    "df[df['icd_10_diagnosis_code']=='O80']"
   ]
  },
  {
   "cell_type": "code",
   "execution_count": 20,
   "id": "b468de24",
   "metadata": {},
   "outputs": [
    {
     "name": "stdout",
     "output_type": "stream",
     "text": [
      "For ICD O80\n",
      "average total_claim_cost:  9828.935643862127\n",
      "average length_of_stay:  4.563601652806109\n",
      " \n",
      "For ICD O82\n",
      "average total_claim_cost:  31630.645867922765\n",
      "average length_of_stay:  6.607965674843765\n",
      " \n",
      "For ICD O03\n",
      "average total_claim_cost:  21368.911271704572\n",
      "average length_of_stay:  5.57128882367327\n",
      " \n",
      "For ICD O69\n",
      "average total_claim_cost:  35056.783305654404\n",
      "average length_of_stay:  7.539739027283511\n",
      " \n",
      "For ICD O67\n",
      "average total_claim_cost:  38524.39550686291\n",
      "average length_of_stay:  7.576153464527865\n",
      " \n"
     ]
    }
   ],
   "source": [
    "for code in unique_icd_codes: \n",
    "    print(f'For ICD', code)\n",
    "    \n",
    "    cost = np.mean(df[df['icd_10_diagnosis_code']==code]['total_claim_cost'])\n",
    "    print(f'average total_claim_cost: ', cost)\n",
    "\n",
    "    stay = np.mean(df[df['icd_10_diagnosis_code']==code]['length_of_stay'])\n",
    "    print(f'average length_of_stay: ', stay)\n",
    "    print(\" \")"
   ]
  },
  {
   "cell_type": "markdown",
   "id": "18c4f915",
   "metadata": {},
   "source": [
    "## Any other observations / summary statistics you’d like to share"
   ]
  },
  {
   "cell_type": "markdown",
   "id": "ece1cb16",
   "metadata": {},
   "source": [
    "### Patient age\n",
    "There may be something wrong with the patient age. "
   ]
  },
  {
   "cell_type": "code",
   "execution_count": 21,
   "id": "3665df2d",
   "metadata": {},
   "outputs": [
    {
     "data": {
      "text/plain": [
       "<AxesSubplot:>"
      ]
     },
     "execution_count": 21,
     "metadata": {},
     "output_type": "execute_result"
    },
    {
     "data": {
      "image/png": "[encoded data removed]",
      "text/plain": [
       "<Figure size 432x288 with 1 Axes>"
      ]
     },
     "metadata": {
      "needs_background": "light"
     },
     "output_type": "display_data"
    }
   ],
   "source": [
    "df['patient_age'].hist()"
   ]
  },
  {
   "cell_type": "code",
   "execution_count": 22,
   "id": "16b1a760",
   "metadata": {},
   "outputs": [
    {
     "data": {
      "text/plain": [
       "11667      0\n",
       "45971      1\n",
       "49442      1\n",
       "40301      3\n",
       "35098      3\n",
       "        ... \n",
       "50486     85\n",
       "13135     91\n",
       "35065     94\n",
       "42207     95\n",
       "57173    101\n",
       "Name: patient_age, Length: 64153, dtype: int64"
      ]
     },
     "execution_count": 22,
     "metadata": {},
     "output_type": "execute_result"
    }
   ],
   "source": [
    "df['patient_age'].sort_values()"
   ]
  },
  {
   "cell_type": "markdown",
   "id": "08166b36",
   "metadata": {},
   "source": [
    "Repeating patients"
   ]
  },
  {
   "cell_type": "code",
   "execution_count": 23,
   "id": "27b70403",
   "metadata": {},
   "outputs": [
    {
     "data": {
      "text/plain": [
       "57364"
      ]
     },
     "execution_count": 23,
     "metadata": {},
     "output_type": "execute_result"
    }
   ],
   "source": [
    "# Are there repeating patients? Are the patient IDs all unique\n",
    "len(df['patient_id'].unique()) # 64153 rows in df "
   ]
  },
  {
   "cell_type": "code",
   "execution_count": 24,
   "id": "dcd18a92",
   "metadata": {},
   "outputs": [
    {
     "data": {
      "text/plain": [
       "<AxesSubplot:>"
      ]
     },
     "execution_count": 24,
     "metadata": {},
     "output_type": "execute_result"
    },
    {
     "data": {
      "image/png": "[encoded data removed]",
      "text/plain": [
       "<Figure size 432x288 with 1 Axes>"
      ]
     },
     "metadata": {
      "needs_background": "light"
     },
     "output_type": "display_data"
    }
   ],
   "source": [
    "df['patient_id'].hist()"
   ]
  },
  {
   "cell_type": "code",
   "execution_count": 25,
   "id": "6e52f486",
   "metadata": {},
   "outputs": [
    {
     "data": {
      "text/plain": [
       "0        101511\n",
       "1        101143\n",
       "2        193330\n",
       "3        142808\n",
       "4        142808\n",
       "          ...  \n",
       "64148    102809\n",
       "64149    136397\n",
       "64150    190534\n",
       "64151    137050\n",
       "64152    157354\n",
       "Name: patient_id, Length: 64153, dtype: int64"
      ]
     },
     "execution_count": 25,
     "metadata": {},
     "output_type": "execute_result"
    }
   ],
   "source": [
    "df['patient_id']"
   ]
  },
  {
   "cell_type": "code",
   "execution_count": 26,
   "id": "9ae62fad",
   "metadata": {},
   "outputs": [],
   "source": [
    "id_dict = {}\n",
    "for ID in df['patient_id']:\n",
    "    if ID not in id_dict.keys():\n",
    "        id_dict[ID] = 1\n",
    "    else:\n",
    "        id_dict[ID] += 1"
   ]
  },
  {
   "cell_type": "code",
   "execution_count": 27,
   "id": "1483ff99",
   "metadata": {},
   "outputs": [
    {
     "data": {
      "text/plain": [
       "[(142808, 6790),\n",
       " (101511, 1),\n",
       " (101143, 1),\n",
       " (193330, 1),\n",
       " (189210, 1),\n",
       " (129631, 1),\n",
       " (141924, 1),\n",
       " (123308, 1),\n",
       " (195451, 1),\n",
       " (116116, 1)]"
      ]
     },
     "execution_count": 27,
     "metadata": {},
     "output_type": "execute_result"
    }
   ],
   "source": [
    "sorted(id_dict.items(), key=lambda x: x[1], reverse=True)[0:10]"
   ]
  },
  {
   "cell_type": "code",
   "execution_count": 28,
   "id": "46b7507a",
   "metadata": {},
   "outputs": [
    {
     "data": {
      "text/html": [
       "<div>\n",
       "<style scoped>\n",
       "    .dataframe tbody tr th:only-of-type {\n",
       "        vertical-align: middle;\n",
       "    }\n",
       "\n",
       "    .dataframe tbody tr th {\n",
       "        vertical-align: top;\n",
       "    }\n",
       "\n",
       "    .dataframe thead th {\n",
       "        text-align: right;\n",
       "    }\n",
       "</style>\n",
       "<table border=\"1\" class=\"dataframe\">\n",
       "  <thead>\n",
       "    <tr style=\"text-align: right;\">\n",
       "      <th></th>\n",
       "      <th>patient_id</th>\n",
       "      <th>date_of_birth</th>\n",
       "      <th>patient_age</th>\n",
       "      <th>gender</th>\n",
       "      <th>zip_code</th>\n",
       "      <th>date_of_delivery</th>\n",
       "      <th>icd_10_diagnosis_code</th>\n",
       "      <th>length_of_stay</th>\n",
       "      <th>total_claim_cost</th>\n",
       "    </tr>\n",
       "  </thead>\n",
       "  <tbody>\n",
       "    <tr>\n",
       "      <th>3</th>\n",
       "      <td>142808</td>\n",
       "      <td>1978-02-25</td>\n",
       "      <td>38</td>\n",
       "      <td>F</td>\n",
       "      <td>37027</td>\n",
       "      <td>2017-01-12</td>\n",
       "      <td>O80</td>\n",
       "      <td>4</td>\n",
       "      <td>8669.38</td>\n",
       "    </tr>\n",
       "    <tr>\n",
       "      <th>4</th>\n",
       "      <td>142808</td>\n",
       "      <td>1970-09-11</td>\n",
       "      <td>47</td>\n",
       "      <td>F</td>\n",
       "      <td>37250</td>\n",
       "      <td>2017-12-13</td>\n",
       "      <td>O82</td>\n",
       "      <td>8</td>\n",
       "      <td>21954.30</td>\n",
       "    </tr>\n",
       "    <tr>\n",
       "      <th>16</th>\n",
       "      <td>142808</td>\n",
       "      <td>1991-04-12</td>\n",
       "      <td>25</td>\n",
       "      <td>F</td>\n",
       "      <td>37013</td>\n",
       "      <td>2017-01-07</td>\n",
       "      <td>O80</td>\n",
       "      <td>12</td>\n",
       "      <td>34030.83</td>\n",
       "    </tr>\n",
       "    <tr>\n",
       "      <th>29</th>\n",
       "      <td>142808</td>\n",
       "      <td>1987-11-08</td>\n",
       "      <td>29</td>\n",
       "      <td>F</td>\n",
       "      <td>37250</td>\n",
       "      <td>2017-08-23</td>\n",
       "      <td>O80</td>\n",
       "      <td>6</td>\n",
       "      <td>15846.48</td>\n",
       "    </tr>\n",
       "    <tr>\n",
       "      <th>36</th>\n",
       "      <td>142808</td>\n",
       "      <td>1975-08-28</td>\n",
       "      <td>41</td>\n",
       "      <td>NaN</td>\n",
       "      <td>37122</td>\n",
       "      <td>2017-01-06</td>\n",
       "      <td>O03</td>\n",
       "      <td>5</td>\n",
       "      <td>12039.82</td>\n",
       "    </tr>\n",
       "    <tr>\n",
       "      <th>...</th>\n",
       "      <td>...</td>\n",
       "      <td>...</td>\n",
       "      <td>...</td>\n",
       "      <td>...</td>\n",
       "      <td>...</td>\n",
       "      <td>...</td>\n",
       "      <td>...</td>\n",
       "      <td>...</td>\n",
       "      <td>...</td>\n",
       "    </tr>\n",
       "    <tr>\n",
       "      <th>64098</th>\n",
       "      <td>142808</td>\n",
       "      <td>1979-05-30</td>\n",
       "      <td>37</td>\n",
       "      <td>F</td>\n",
       "      <td>37013</td>\n",
       "      <td>2017-02-04</td>\n",
       "      <td>O80</td>\n",
       "      <td>6</td>\n",
       "      <td>20798.25</td>\n",
       "    </tr>\n",
       "    <tr>\n",
       "      <th>64102</th>\n",
       "      <td>142808</td>\n",
       "      <td>2000-05-08</td>\n",
       "      <td>17</td>\n",
       "      <td>F</td>\n",
       "      <td>37027</td>\n",
       "      <td>2017-07-26</td>\n",
       "      <td>O80</td>\n",
       "      <td>3</td>\n",
       "      <td>7266.08</td>\n",
       "    </tr>\n",
       "    <tr>\n",
       "      <th>64103</th>\n",
       "      <td>142808</td>\n",
       "      <td>2001-05-20</td>\n",
       "      <td>16</td>\n",
       "      <td>F</td>\n",
       "      <td>37013</td>\n",
       "      <td>2017-11-22</td>\n",
       "      <td>O80</td>\n",
       "      <td>5</td>\n",
       "      <td>11627.90</td>\n",
       "    </tr>\n",
       "    <tr>\n",
       "      <th>64113</th>\n",
       "      <td>142808</td>\n",
       "      <td>1983-12-31</td>\n",
       "      <td>33</td>\n",
       "      <td>F</td>\n",
       "      <td>37250</td>\n",
       "      <td>2017-08-31</td>\n",
       "      <td>O67</td>\n",
       "      <td>11</td>\n",
       "      <td>35808.68</td>\n",
       "    </tr>\n",
       "    <tr>\n",
       "      <th>64139</th>\n",
       "      <td>142808</td>\n",
       "      <td>1979-02-23</td>\n",
       "      <td>38</td>\n",
       "      <td>NaN</td>\n",
       "      <td>37122</td>\n",
       "      <td>2017-08-24</td>\n",
       "      <td>O80</td>\n",
       "      <td>4</td>\n",
       "      <td>3621.72</td>\n",
       "    </tr>\n",
       "  </tbody>\n",
       "</table>\n",
       "<p>6790 rows × 9 columns</p>\n",
       "</div>"
      ],
      "text/plain": [
       "       patient_id date_of_birth  patient_age gender  zip_code  \\\n",
       "3          142808    1978-02-25           38      F     37027   \n",
       "4          142808    1970-09-11           47      F     37250   \n",
       "16         142808    1991-04-12           25      F     37013   \n",
       "29         142808    1987-11-08           29      F     37250   \n",
       "36         142808    1975-08-28           41    NaN     37122   \n",
       "...           ...           ...          ...    ...       ...   \n",
       "64098      142808    1979-05-30           37      F     37013   \n",
       "64102      142808    2000-05-08           17      F     37027   \n",
       "64103      142808    2001-05-20           16      F     37013   \n",
       "64113      142808    1983-12-31           33      F     37250   \n",
       "64139      142808    1979-02-23           38    NaN     37122   \n",
       "\n",
       "      date_of_delivery icd_10_diagnosis_code  length_of_stay  total_claim_cost  \n",
       "3           2017-01-12                   O80               4           8669.38  \n",
       "4           2017-12-13                   O82               8          21954.30  \n",
       "16          2017-01-07                   O80              12          34030.83  \n",
       "29          2017-08-23                   O80               6          15846.48  \n",
       "36          2017-01-06                   O03               5          12039.82  \n",
       "...                ...                   ...             ...               ...  \n",
       "64098       2017-02-04                   O80               6          20798.25  \n",
       "64102       2017-07-26                   O80               3           7266.08  \n",
       "64103       2017-11-22                   O80               5          11627.90  \n",
       "64113       2017-08-31                   O67              11          35808.68  \n",
       "64139       2017-08-24                   O80               4           3621.72  \n",
       "\n",
       "[6790 rows x 9 columns]"
      ]
     },
     "execution_count": 28,
     "metadata": {},
     "output_type": "execute_result"
    }
   ],
   "source": [
    "id_error = df[df['patient_id'] == 142808]\n",
    "id_error"
   ]
  },
  {
   "cell_type": "code",
   "execution_count": null,
   "id": "bc0642a5",
   "metadata": {},
   "outputs": [],
   "source": []
  },
  {
   "cell_type": "markdown",
   "id": "7fe906c7-bd07-4204-8d35-596c47e25fef",
   "metadata": {},
   "source": [
    "# END OF CODING ASSIGNMENT"
   ]
  },
  {
   "cell_type": "code",
   "execution_count": null,
   "id": "19ebbaa0-6b1a-4ab0-b74a-8d70e20087e9",
   "metadata": {},
   "outputs": [],
   "source": []
  },
  {
   "cell_type": "markdown",
   "id": "6d35bf9e",
   "metadata": {},
   "source": [
    "## Deep Learning\n",
    "vs. machine learning (feature extraction by hand)\n",
    "\n",
    "### CNNs\n",
    "- CNN learns the filters automatically without mentioning it explicitly. These filters help in extracting the right and relevant features from the input data\n",
    "(https://www.analyticsvidhya.com/blog/2020/02/cnn-vs-rnn-vs-mlp-analyzing-3-types-of-neural-networks-in-deep-learning/)\n",
    "\n",
    "Used CNN instead of RNN because this data is not exacty \"sequential\" (time series). "
   ]
  },
  {
   "cell_type": "code",
   "execution_count": 29,
   "id": "f8fa0d9f",
   "metadata": {},
   "outputs": [
    {
     "data": {
      "text/plain": [
       "array([37027, 37013, 37250, 37167, 37122, 35896])"
      ]
     },
     "execution_count": 29,
     "metadata": {},
     "output_type": "execute_result"
    }
   ],
   "source": [
    "df['zip_code'].unique()"
   ]
  },
  {
   "cell_type": "code",
   "execution_count": 34,
   "id": "67657af8-5bef-4938-b363-807449c82890",
   "metadata": {},
   "outputs": [
    {
     "data": {
      "text/plain": [
       "'2.8.0'"
      ]
     },
     "execution_count": 34,
     "metadata": {},
     "output_type": "execute_result"
    }
   ],
   "source": [
    "tf.__version__"
   ]
  },
  {
   "cell_type": "code",
   "execution_count": 33,
   "id": "335d1fcb-c888-488d-b1c4-64c1216f6e7a",
   "metadata": {},
   "outputs": [
    {
     "data": {
      "text/plain": [
       "[PhysicalDevice(name='/physical_device:CPU:0', device_type='CPU'),\n",
       " PhysicalDevice(name='/physical_device:GPU:0', device_type='GPU')]"
      ]
     },
     "execution_count": 33,
     "metadata": {},
     "output_type": "execute_result"
    }
   ],
   "source": [
    "tf.config.list_physical_devices()"
   ]
  },
  {
   "cell_type": "code",
   "execution_count": 31,
   "id": "a1bb75f7",
   "metadata": {},
   "outputs": [],
   "source": [
    "import os\n",
    "import random\n",
    "\n",
    "import numpy as np\n",
    "import pandas as pd\n",
    "import tensorflow as tf\n",
    "from tensorflow.keras import backend as K\n",
    "from tensorflow.keras.layers import Dense, Dropout, Flatten, Conv2D, MaxPool2D, Input\n",
    "from tensorflow.keras.models import Sequential, load_model\n",
    "from tensorflow.keras.callbacks import ModelCheckpoint\n",
    "from sklearn.preprocessing import StandardScaler\n",
    "from sklearn.metrics import accuracy_score, f1_score, mean_absolute_error"
   ]
  },
  {
   "cell_type": "markdown",
   "id": "81a7df17-f57c-480e-a936-c977dac00d4c",
   "metadata": {},
   "source": [
    "use patient age, zip code, ICD code, and length of stay **to predict total_claim_cost**"
   ]
  },
  {
   "cell_type": "code",
   "execution_count": 35,
   "id": "274353ff-8912-4718-9aa4-0aee0b3e820a",
   "metadata": {},
   "outputs": [
    {
     "data": {
      "text/plain": [
       "Index(['patient_id', 'date_of_birth', 'patient_age', 'gender', 'zip_code',\n",
       "       'date_of_delivery', 'icd_10_diagnosis_code', 'length_of_stay',\n",
       "       'total_claim_cost'],\n",
       "      dtype='object')"
      ]
     },
     "execution_count": 35,
     "metadata": {},
     "output_type": "execute_result"
    }
   ],
   "source": [
    "df.columns"
   ]
  },
  {
   "cell_type": "code",
   "execution_count": 40,
   "id": "1edfdf69-7f33-4b86-9b53-e80aa70d0673",
   "metadata": {},
   "outputs": [
    {
     "data": {
      "text/html": [
       "<div>\n",
       "<style scoped>\n",
       "    .dataframe tbody tr th:only-of-type {\n",
       "        vertical-align: middle;\n",
       "    }\n",
       "\n",
       "    .dataframe tbody tr th {\n",
       "        vertical-align: top;\n",
       "    }\n",
       "\n",
       "    .dataframe thead th {\n",
       "        text-align: right;\n",
       "    }\n",
       "</style>\n",
       "<table border=\"1\" class=\"dataframe\">\n",
       "  <thead>\n",
       "    <tr style=\"text-align: right;\">\n",
       "      <th></th>\n",
       "      <th>patient_age</th>\n",
       "      <th>zip_code</th>\n",
       "      <th>icd_10_diagnosis_code</th>\n",
       "      <th>length_of_stay</th>\n",
       "      <th>total_claim_cost</th>\n",
       "    </tr>\n",
       "  </thead>\n",
       "  <tbody>\n",
       "    <tr>\n",
       "      <th>0</th>\n",
       "      <td>24</td>\n",
       "      <td>37027</td>\n",
       "      <td>O80</td>\n",
       "      <td>5</td>\n",
       "      <td>15590.55</td>\n",
       "    </tr>\n",
       "    <tr>\n",
       "      <th>1</th>\n",
       "      <td>25</td>\n",
       "      <td>37013</td>\n",
       "      <td>O82</td>\n",
       "      <td>7</td>\n",
       "      <td>37930.46</td>\n",
       "    </tr>\n",
       "    <tr>\n",
       "      <th>2</th>\n",
       "      <td>34</td>\n",
       "      <td>37250</td>\n",
       "      <td>O82</td>\n",
       "      <td>7</td>\n",
       "      <td>24965.33</td>\n",
       "    </tr>\n",
       "    <tr>\n",
       "      <th>3</th>\n",
       "      <td>38</td>\n",
       "      <td>37027</td>\n",
       "      <td>O80</td>\n",
       "      <td>4</td>\n",
       "      <td>8669.38</td>\n",
       "    </tr>\n",
       "    <tr>\n",
       "      <th>4</th>\n",
       "      <td>47</td>\n",
       "      <td>37250</td>\n",
       "      <td>O82</td>\n",
       "      <td>8</td>\n",
       "      <td>21954.30</td>\n",
       "    </tr>\n",
       "    <tr>\n",
       "      <th>...</th>\n",
       "      <td>...</td>\n",
       "      <td>...</td>\n",
       "      <td>...</td>\n",
       "      <td>...</td>\n",
       "      <td>...</td>\n",
       "    </tr>\n",
       "    <tr>\n",
       "      <th>64148</th>\n",
       "      <td>27</td>\n",
       "      <td>37122</td>\n",
       "      <td>O80</td>\n",
       "      <td>4</td>\n",
       "      <td>11357.88</td>\n",
       "    </tr>\n",
       "    <tr>\n",
       "      <th>64149</th>\n",
       "      <td>35</td>\n",
       "      <td>37013</td>\n",
       "      <td>O82</td>\n",
       "      <td>8</td>\n",
       "      <td>22995.74</td>\n",
       "    </tr>\n",
       "    <tr>\n",
       "      <th>64150</th>\n",
       "      <td>40</td>\n",
       "      <td>37250</td>\n",
       "      <td>O69</td>\n",
       "      <td>6</td>\n",
       "      <td>18503.37</td>\n",
       "    </tr>\n",
       "    <tr>\n",
       "      <th>64151</th>\n",
       "      <td>47</td>\n",
       "      <td>37250</td>\n",
       "      <td>O80</td>\n",
       "      <td>7</td>\n",
       "      <td>11688.88</td>\n",
       "    </tr>\n",
       "    <tr>\n",
       "      <th>64152</th>\n",
       "      <td>18</td>\n",
       "      <td>37250</td>\n",
       "      <td>O69</td>\n",
       "      <td>11</td>\n",
       "      <td>31829.80</td>\n",
       "    </tr>\n",
       "  </tbody>\n",
       "</table>\n",
       "<p>64153 rows × 5 columns</p>\n",
       "</div>"
      ],
      "text/plain": [
       "       patient_age  zip_code icd_10_diagnosis_code  length_of_stay  \\\n",
       "0               24     37027                   O80               5   \n",
       "1               25     37013                   O82               7   \n",
       "2               34     37250                   O82               7   \n",
       "3               38     37027                   O80               4   \n",
       "4               47     37250                   O82               8   \n",
       "...            ...       ...                   ...             ...   \n",
       "64148           27     37122                   O80               4   \n",
       "64149           35     37013                   O82               8   \n",
       "64150           40     37250                   O69               6   \n",
       "64151           47     37250                   O80               7   \n",
       "64152           18     37250                   O69              11   \n",
       "\n",
       "       total_claim_cost  \n",
       "0              15590.55  \n",
       "1              37930.46  \n",
       "2              24965.33  \n",
       "3               8669.38  \n",
       "4              21954.30  \n",
       "...                 ...  \n",
       "64148          11357.88  \n",
       "64149          22995.74  \n",
       "64150          18503.37  \n",
       "64151          11688.88  \n",
       "64152          31829.80  \n",
       "\n",
       "[64153 rows x 5 columns]"
      ]
     },
     "execution_count": 40,
     "metadata": {},
     "output_type": "execute_result"
    }
   ],
   "source": [
    "new_df = df[['patient_age', 'zip_code', 'icd_10_diagnosis_code', 'length_of_stay', 'total_claim_cost']]\n",
    "new_df"
   ]
  },
  {
   "cell_type": "markdown",
   "id": "1a5762f0-20a2-49a7-85a0-016d74700c40",
   "metadata": {},
   "source": [
    "reference for code: https://machinelearningmastery.com/using-cnn-for-financial-time-series-prediction/"
   ]
  },
  {
   "cell_type": "markdown",
   "id": "8d2ea842-f4de-4124-996d-deab6009a18d",
   "metadata": {},
   "source": [
    "### Data Preprocessing\n",
    "TO DO: turn data points into matrices"
   ]
  },
  {
   "cell_type": "code",
   "execution_count": null,
   "id": "e1248c7c-40cf-4d24-8c81-4988bdb8d6b8",
   "metadata": {},
   "outputs": [],
   "source": []
  },
  {
   "cell_type": "code",
   "execution_count": null,
   "id": "87b1ffca-f870-49fa-b92d-005e6e6c5275",
   "metadata": {},
   "outputs": [],
   "source": []
  },
  {
   "cell_type": "code",
   "execution_count": 41,
   "id": "177e0637-4d36-4ee4-ab88-ff2320016013",
   "metadata": {},
   "outputs": [],
   "source": [
    "def recall_m(y_true, y_pred):\n",
    "    true_positives = K.sum(K.round(K.clip(y_true * y_pred, 0, 1)))\n",
    "    possible_positives = K.sum(K.round(K.clip(y_true, 0, 1)))\n",
    "    recall = true_positives / (possible_positives + K.epsilon())\n",
    "    return recall\n",
    " \n",
    "def precision_m(y_true, y_pred):\n",
    "    true_positives = K.sum(K.round(K.clip(y_true * y_pred, 0, 1)))\n",
    "    predicted_positives = K.sum(K.round(K.clip(y_pred, 0, 1)))\n",
    "    precision = true_positives / (predicted_positives + K.epsilon())\n",
    "    return precision\n",
    " \n",
    "def f1_m(y_true, y_pred):\n",
    "    precision = precision_m(y_true, y_pred)\n",
    "    recall = recall_m(y_true, y_pred)\n",
    "    return 2*((precision*recall)/(precision+recall+K.epsilon()))\n",
    " \n",
    "def f1macro(y_true, y_pred):\n",
    "    f_pos = f1_m(y_true, y_pred)\n",
    "    # negative version of the data and prediction\n",
    "    f_neg = f1_m(1-y_true, 1-K.clip(y_pred,0,1))\n",
    "    return (f_pos + f_neg)/2"
   ]
  },
  {
   "cell_type": "markdown",
   "id": "f8d752d8-aa3b-4e05-ad43-cf06bc3c1006",
   "metadata": {},
   "source": [
    "### Model"
   ]
  },
  {
   "cell_type": "code",
   "execution_count": null,
   "id": "89483d00-2a6b-4e50-b7d6-d7c5a7d0c5dc",
   "metadata": {},
   "outputs": [],
   "source": [
    "def cnnpred_2d(seq_len=60, n_features=82, n_filters=(8,8,8), droprate=0.1):\n",
    "    \"2D-CNNpred model according to the paper\"\n",
    "    model = Sequential([\n",
    "        Input(shape=(seq_len, n_features, 1)),\n",
    "        Conv2D(n_filters[0], kernel_size=(1, n_features), activation=\"relu\"),\n",
    "        Conv2D(n_filters[1], kernel_size=(3,1), activation=\"relu\"),\n",
    "        MaxPool2D(pool_size=(2,1)),\n",
    "        Conv2D(n_filters[2], kernel_size=(3,1), activation=\"relu\"),\n",
    "        MaxPool2D(pool_size=(2,1)),\n",
    "        Flatten(),\n",
    "        Dropout(droprate),\n",
    "        Dense(1, activation=\"sigmoid\")\n",
    "    ])\n",
    "    return model"
   ]
  },
  {
   "cell_type": "code",
   "execution_count": null,
   "id": "dc03e2e4-824a-480a-97a7-2157ed3d97a9",
   "metadata": {},
   "outputs": [],
   "source": [
    "# Produce CNNpred as a binary classification problem\n",
    "model = cnnpred_2d(seq_len, n_features)\n",
    "model.compile(optimizer=\"adam\", loss=\"mae\", metrics=[\"acc\", f1macro])\n",
    "model.summary()  # print model structure to console\n",
    " \n",
    "# Set up callbacks and fit the model\n",
    "# We use custom validation score f1macro() and hence monitor for \"val_f1macro\"\n",
    "checkpoint_path = \"./cp2d-{epoch}-{val_f1macro:.2f}.h5\"\n",
    "callbacks = [\n",
    "    ModelCheckpoint(checkpoint_path,\n",
    "                    monitor='val_f1macro', mode=\"max\",\n",
    "                    verbose=0, save_best_only=True, save_weights_only=False, save_freq=\"epoch\")\n",
    "]\n",
    "model.fit(datagen(data, seq_len, batch_size, \"Target\", \"train\"),\n",
    "          validation_data=datagen(data, seq_len, batch_size, \"Target\", \"valid\"),\n",
    "          epochs=n_epochs, steps_per_epoch=400, validation_steps=10, verbose=1, callbacks=callbacks)\n",
    " \n",
    "# Prepare test data\n",
    "test_data, test_target = testgen(data, seq_len, \"Target\")\n",
    " \n",
    "# Test the model\n",
    "test_out = model.predict(test_data)\n",
    "test_pred = (test_out > 0.5).astype(int)\n",
    "print(\"accuracy:\", accuracy_score(test_pred, test_target))\n",
    "print(\"MAE:\", mean_absolute_error(test_pred, test_target))\n",
    "print(\"F1:\", f1_score(test_pred, test_target))"
   ]
  }
 ],
 "metadata": {
  "kernelspec": {
   "display_name": "Python 3",
   "language": "python",
   "name": "python3"
  },
  "language_info": {
   "codemirror_mode": {
    "name": "ipython",
    "version": 3
   },
   "file_extension": ".py",
   "mimetype": "text/x-python",
   "name": "python",
   "nbconvert_exporter": "python",
   "pygments_lexer": "ipython3",
   "version": "3.9.12"
  }
 },
 "nbformat": 4,
 "nbformat_minor": 5
}
